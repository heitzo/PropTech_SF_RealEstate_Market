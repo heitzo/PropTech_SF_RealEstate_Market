{
 "cells": [
  {
   "cell_type": "markdown",
   "id": "ffb601b3-dbd7-4e17-a7a2-5bd3371d20f1",
   "metadata": {},
   "source": [
    "## Housing Rental Analysis for San Francisco\n"
   ]
  },
  {
   "cell_type": "code",
   "execution_count": null,
   "id": "2ed1865d-d4d6-4023-a75f-b9fdeae06f7a",
   "metadata": {},
   "outputs": [],
   "source": [
    "# Import the required libraries and dependencies\n",
    "import pandas as pd\n",
    "import hvplot.pandas\n",
    "from pathlib import Path"
   ]
  },
  {
   "cell_type": "code",
   "execution_count": null,
   "id": "65b613aa-3cc4-48bf-a4b8-347b638acc40",
   "metadata": {},
   "outputs": [],
   "source": []
  }
 ],
 "metadata": {
  "kernelspec": {
   "display_name": "dev",
   "language": "python",
   "name": "dev"
  },
  "language_info": {
   "codemirror_mode": {
    "name": "ipython",
    "version": 3
   },
   "file_extension": ".py",
   "mimetype": "text/x-python",
   "name": "python",
   "nbconvert_exporter": "python",
   "pygments_lexer": "ipython3",
   "version": "3.7.11"
  }
 },
 "nbformat": 4,
 "nbformat_minor": 5
}
